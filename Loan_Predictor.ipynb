{
  "nbformat": 4,
  "nbformat_minor": 0,
  "metadata": {
    "kernelspec": {
      "display_name": "Python 3",
      "language": "python",
      "name": "python3"
    },
    "language_info": {
      "codemirror_mode": {
        "name": "ipython",
        "version": 3
      },
      "file_extension": ".py",
      "mimetype": "text/x-python",
      "name": "python",
      "nbconvert_exporter": "python",
      "pygments_lexer": "ipython3",
      "version": "3.7.6"
    },
    "colab": {
      "name": "Untitled.ipynb",
      "provenance": []
    }
  },
  "cells": [
    {
      "cell_type": "code",
      "metadata": {
        "id": "aIkKmJ2YvbBp",
        "colab_type": "code",
        "colab": {}
      },
      "source": [
        "import pandas as pd\n"
      ],
      "execution_count": null,
      "outputs": []
    },
    {
      "cell_type": "code",
      "metadata": {
        "id": "wZYWHMJRvbBt",
        "colab_type": "code",
        "colab": {}
      },
      "source": [
        "raw=pd.read_csv('train_ctrUa4K.csv')"
      ],
      "execution_count": null,
      "outputs": []
    },
    {
      "cell_type": "code",
      "metadata": {
        "id": "euunf07ZvbBw",
        "colab_type": "code",
        "colab": {}
      },
      "source": [
        "raw_data=raw.copy()"
      ],
      "execution_count": null,
      "outputs": []
    },
    {
      "cell_type": "code",
      "metadata": {
        "id": "9PN0zJ9YvbBy",
        "colab_type": "code",
        "colab": {
          "base_uri": "https://localhost:8080/",
          "height": 232
        },
        "outputId": "61d0bc7b-d017-404f-8dcd-97a3278823a2"
      },
      "source": [
        "raw_data.head()"
      ],
      "execution_count": null,
      "outputs": [
        {
          "output_type": "execute_result",
          "data": {
            "text/html": [
              "<div>\n",
              "<style scoped>\n",
              "    .dataframe tbody tr th:only-of-type {\n",
              "        vertical-align: middle;\n",
              "    }\n",
              "\n",
              "    .dataframe tbody tr th {\n",
              "        vertical-align: top;\n",
              "    }\n",
              "\n",
              "    .dataframe thead th {\n",
              "        text-align: right;\n",
              "    }\n",
              "</style>\n",
              "<table border=\"1\" class=\"dataframe\">\n",
              "  <thead>\n",
              "    <tr style=\"text-align: right;\">\n",
              "      <th></th>\n",
              "      <th>Loan_ID</th>\n",
              "      <th>Gender</th>\n",
              "      <th>Married</th>\n",
              "      <th>Dependents</th>\n",
              "      <th>Education</th>\n",
              "      <th>Self_Employed</th>\n",
              "      <th>ApplicantIncome</th>\n",
              "      <th>CoapplicantIncome</th>\n",
              "      <th>LoanAmount</th>\n",
              "      <th>Loan_Amount_Term</th>\n",
              "      <th>Credit_History</th>\n",
              "      <th>Property_Area</th>\n",
              "      <th>Loan_Status</th>\n",
              "    </tr>\n",
              "  </thead>\n",
              "  <tbody>\n",
              "    <tr>\n",
              "      <th>0</th>\n",
              "      <td>LP001002</td>\n",
              "      <td>Male</td>\n",
              "      <td>No</td>\n",
              "      <td>0</td>\n",
              "      <td>Graduate</td>\n",
              "      <td>No</td>\n",
              "      <td>5849</td>\n",
              "      <td>0.0</td>\n",
              "      <td>NaN</td>\n",
              "      <td>360.0</td>\n",
              "      <td>1.0</td>\n",
              "      <td>Urban</td>\n",
              "      <td>Y</td>\n",
              "    </tr>\n",
              "    <tr>\n",
              "      <th>1</th>\n",
              "      <td>LP001003</td>\n",
              "      <td>Male</td>\n",
              "      <td>Yes</td>\n",
              "      <td>1</td>\n",
              "      <td>Graduate</td>\n",
              "      <td>No</td>\n",
              "      <td>4583</td>\n",
              "      <td>1508.0</td>\n",
              "      <td>128.0</td>\n",
              "      <td>360.0</td>\n",
              "      <td>1.0</td>\n",
              "      <td>Rural</td>\n",
              "      <td>N</td>\n",
              "    </tr>\n",
              "    <tr>\n",
              "      <th>2</th>\n",
              "      <td>LP001005</td>\n",
              "      <td>Male</td>\n",
              "      <td>Yes</td>\n",
              "      <td>0</td>\n",
              "      <td>Graduate</td>\n",
              "      <td>Yes</td>\n",
              "      <td>3000</td>\n",
              "      <td>0.0</td>\n",
              "      <td>66.0</td>\n",
              "      <td>360.0</td>\n",
              "      <td>1.0</td>\n",
              "      <td>Urban</td>\n",
              "      <td>Y</td>\n",
              "    </tr>\n",
              "    <tr>\n",
              "      <th>3</th>\n",
              "      <td>LP001006</td>\n",
              "      <td>Male</td>\n",
              "      <td>Yes</td>\n",
              "      <td>0</td>\n",
              "      <td>Not Graduate</td>\n",
              "      <td>No</td>\n",
              "      <td>2583</td>\n",
              "      <td>2358.0</td>\n",
              "      <td>120.0</td>\n",
              "      <td>360.0</td>\n",
              "      <td>1.0</td>\n",
              "      <td>Urban</td>\n",
              "      <td>Y</td>\n",
              "    </tr>\n",
              "    <tr>\n",
              "      <th>4</th>\n",
              "      <td>LP001008</td>\n",
              "      <td>Male</td>\n",
              "      <td>No</td>\n",
              "      <td>0</td>\n",
              "      <td>Graduate</td>\n",
              "      <td>No</td>\n",
              "      <td>6000</td>\n",
              "      <td>0.0</td>\n",
              "      <td>141.0</td>\n",
              "      <td>360.0</td>\n",
              "      <td>1.0</td>\n",
              "      <td>Urban</td>\n",
              "      <td>Y</td>\n",
              "    </tr>\n",
              "  </tbody>\n",
              "</table>\n",
              "</div>"
            ],
            "text/plain": [
              "    Loan_ID Gender Married  ... Credit_History Property_Area Loan_Status\n",
              "0  LP001002   Male      No  ...            1.0         Urban           Y\n",
              "1  LP001003   Male     Yes  ...            1.0         Rural           N\n",
              "2  LP001005   Male     Yes  ...            1.0         Urban           Y\n",
              "3  LP001006   Male     Yes  ...            1.0         Urban           Y\n",
              "4  LP001008   Male      No  ...            1.0         Urban           Y\n",
              "\n",
              "[5 rows x 13 columns]"
            ]
          },
          "metadata": {
            "tags": []
          },
          "execution_count": 54
        }
      ]
    },
    {
      "cell_type": "code",
      "metadata": {
        "id": "IphvnDPjvbB0",
        "colab_type": "code",
        "colab": {}
      },
      "source": [
        "data=raw_data.drop(['Loan_ID','Dependents'],axis=1)"
      ],
      "execution_count": null,
      "outputs": []
    },
    {
      "cell_type": "code",
      "metadata": {
        "id": "HDl7QosFvbB2",
        "colab_type": "code",
        "colab": {}
      },
      "source": [
        "data=pd.get_dummies(data,drop_first=True)"
      ],
      "execution_count": null,
      "outputs": []
    },
    {
      "cell_type": "code",
      "metadata": {
        "id": "SRdMfpeuvbB4",
        "colab_type": "code",
        "colab": {}
      },
      "source": [
        "data['LoanAmount'].fillna(data['LoanAmount'].mean(),inplace=True)\n",
        "data['Credit_History'].fillna(data['Credit_History'].mean(),inplace=True)\n",
        "data['Loan_Amount_Term'].fillna(data['Loan_Amount_Term'].mean(),inplace=True)"
      ],
      "execution_count": null,
      "outputs": []
    },
    {
      "cell_type": "code",
      "metadata": {
        "id": "Ct311Ox9vbB6",
        "colab_type": "code",
        "colab": {
          "base_uri": "https://localhost:8080/",
          "height": 34
        },
        "outputId": "35fc9378-be1d-42d9-f809-e22cbe81bc83"
      },
      "source": [
        "targets=data['Loan_Status_Y']\n",
        "data.drop(['Loan_Status_Y'],axis=1,inplace=True)\n",
        "data.shape"
      ],
      "execution_count": null,
      "outputs": [
        {
          "output_type": "execute_result",
          "data": {
            "text/plain": [
              "(614, 11)"
            ]
          },
          "metadata": {
            "tags": []
          },
          "execution_count": 58
        }
      ]
    },
    {
      "cell_type": "code",
      "metadata": {
        "id": "4pmvQ_2evbB9",
        "colab_type": "code",
        "colab": {}
      },
      "source": [
        "from sklearn.preprocessing import StandardScaler\n",
        "Scaler=StandardScaler()"
      ],
      "execution_count": null,
      "outputs": []
    },
    {
      "cell_type": "code",
      "metadata": {
        "id": "alLeknwJvbB_",
        "colab_type": "code",
        "colab": {
          "base_uri": "https://localhost:8080/",
          "height": 34
        },
        "outputId": "06690696-bcca-4be4-9dea-e1153de1b308"
      },
      "source": [
        "Scaler.fit(data)"
      ],
      "execution_count": null,
      "outputs": [
        {
          "output_type": "execute_result",
          "data": {
            "text/plain": [
              "StandardScaler(copy=True, with_mean=True, with_std=True)"
            ]
          },
          "metadata": {
            "tags": []
          },
          "execution_count": 60
        }
      ]
    },
    {
      "cell_type": "code",
      "metadata": {
        "id": "BZX9AD46vbCB",
        "colab_type": "code",
        "colab": {}
      },
      "source": [
        "data=Scaler.transform(data)"
      ],
      "execution_count": null,
      "outputs": []
    },
    {
      "cell_type": "code",
      "metadata": {
        "id": "hZFGmO3FvbCD",
        "colab_type": "code",
        "colab": {}
      },
      "source": [
        "import tensorflow as tf"
      ],
      "execution_count": null,
      "outputs": []
    },
    {
      "cell_type": "code",
      "metadata": {
        "id": "vJ8TxQKDvbCF",
        "colab_type": "code",
        "colab": {}
      },
      "source": [
        "model=tf.keras.Sequential([\n",
        "    tf.keras.layers.Dense(10,input_shape=[11],activation='relu'),\n",
        "    tf.keras.layers.Dense(5,activation='relu'),\n",
        "    tf.keras.layers.Dense(1,activation='sigmoid')\n",
        "])"
      ],
      "execution_count": null,
      "outputs": []
    },
    {
      "cell_type": "code",
      "metadata": {
        "id": "mjcecEH5vbCH",
        "colab_type": "code",
        "colab": {}
      },
      "source": [
        "model.compile(loss='binary_crossentropy',optimizer='adam',metrics=['accuracy'])"
      ],
      "execution_count": null,
      "outputs": []
    },
    {
      "cell_type": "code",
      "metadata": {
        "id": "bR_PP0xJvbCJ",
        "colab_type": "code",
        "colab": {
          "base_uri": "https://localhost:8080/",
          "height": 1000
        },
        "outputId": "74627178-849b-480f-befd-f4c86b9d08b0"
      },
      "source": [
        "model.fit(data,targets,epochs=100)"
      ],
      "execution_count": null,
      "outputs": [
        {
          "output_type": "stream",
          "text": [
            "Epoch 1/100\n",
            "20/20 [==============================] - 0s 2ms/step - loss: 0.8325 - accuracy: 0.4919\n",
            "Epoch 2/100\n",
            "20/20 [==============================] - 0s 1ms/step - loss: 0.7548 - accuracy: 0.5489\n",
            "Epoch 3/100\n",
            "20/20 [==============================] - 0s 1ms/step - loss: 0.7028 - accuracy: 0.5912\n",
            "Epoch 4/100\n",
            "20/20 [==============================] - 0s 1ms/step - loss: 0.6625 - accuracy: 0.6417\n",
            "Epoch 5/100\n",
            "20/20 [==============================] - 0s 2ms/step - loss: 0.6335 - accuracy: 0.6792\n",
            "Epoch 6/100\n",
            "20/20 [==============================] - 0s 1ms/step - loss: 0.6096 - accuracy: 0.7085\n",
            "Epoch 7/100\n",
            "20/20 [==============================] - 0s 1ms/step - loss: 0.5906 - accuracy: 0.7182\n",
            "Epoch 8/100\n",
            "20/20 [==============================] - 0s 1ms/step - loss: 0.5732 - accuracy: 0.7231\n",
            "Epoch 9/100\n",
            "20/20 [==============================] - 0s 1ms/step - loss: 0.5593 - accuracy: 0.7394\n",
            "Epoch 10/100\n",
            "20/20 [==============================] - 0s 1ms/step - loss: 0.5459 - accuracy: 0.7590\n",
            "Epoch 11/100\n",
            "20/20 [==============================] - 0s 1ms/step - loss: 0.5344 - accuracy: 0.7932\n",
            "Epoch 12/100\n",
            "20/20 [==============================] - 0s 1ms/step - loss: 0.5243 - accuracy: 0.8013\n",
            "Epoch 13/100\n",
            "20/20 [==============================] - 0s 1ms/step - loss: 0.5144 - accuracy: 0.8029\n",
            "Epoch 14/100\n",
            "20/20 [==============================] - 0s 1ms/step - loss: 0.5057 - accuracy: 0.8062\n",
            "Epoch 15/100\n",
            "20/20 [==============================] - 0s 1ms/step - loss: 0.4975 - accuracy: 0.8062\n",
            "Epoch 16/100\n",
            "20/20 [==============================] - 0s 1ms/step - loss: 0.4902 - accuracy: 0.8062\n",
            "Epoch 17/100\n",
            "20/20 [==============================] - 0s 1ms/step - loss: 0.4841 - accuracy: 0.8062\n",
            "Epoch 18/100\n",
            "20/20 [==============================] - 0s 1ms/step - loss: 0.4783 - accuracy: 0.8094\n",
            "Epoch 19/100\n",
            "20/20 [==============================] - 0s 1ms/step - loss: 0.4736 - accuracy: 0.8094\n",
            "Epoch 20/100\n",
            "20/20 [==============================] - 0s 1ms/step - loss: 0.4693 - accuracy: 0.8094\n",
            "Epoch 21/100\n",
            "20/20 [==============================] - 0s 1ms/step - loss: 0.4656 - accuracy: 0.8111\n",
            "Epoch 22/100\n",
            "20/20 [==============================] - 0s 1ms/step - loss: 0.4625 - accuracy: 0.8143\n",
            "Epoch 23/100\n",
            "20/20 [==============================] - 0s 1ms/step - loss: 0.4598 - accuracy: 0.8143\n",
            "Epoch 24/100\n",
            "20/20 [==============================] - 0s 1ms/step - loss: 0.4584 - accuracy: 0.8127\n",
            "Epoch 25/100\n",
            "20/20 [==============================] - 0s 1ms/step - loss: 0.4568 - accuracy: 0.8143\n",
            "Epoch 26/100\n",
            "20/20 [==============================] - 0s 1ms/step - loss: 0.4547 - accuracy: 0.8143\n",
            "Epoch 27/100\n",
            "20/20 [==============================] - 0s 1ms/step - loss: 0.4533 - accuracy: 0.8160\n",
            "Epoch 28/100\n",
            "20/20 [==============================] - 0s 1ms/step - loss: 0.4524 - accuracy: 0.8160\n",
            "Epoch 29/100\n",
            "20/20 [==============================] - 0s 1ms/step - loss: 0.4512 - accuracy: 0.8143\n",
            "Epoch 30/100\n",
            "20/20 [==============================] - 0s 1ms/step - loss: 0.4499 - accuracy: 0.8143\n",
            "Epoch 31/100\n",
            "20/20 [==============================] - 0s 1ms/step - loss: 0.4490 - accuracy: 0.8143\n",
            "Epoch 32/100\n",
            "20/20 [==============================] - 0s 1ms/step - loss: 0.4485 - accuracy: 0.8143\n",
            "Epoch 33/100\n",
            "20/20 [==============================] - 0s 1ms/step - loss: 0.4474 - accuracy: 0.8143\n",
            "Epoch 34/100\n",
            "20/20 [==============================] - 0s 1ms/step - loss: 0.4470 - accuracy: 0.8143\n",
            "Epoch 35/100\n",
            "20/20 [==============================] - 0s 2ms/step - loss: 0.4460 - accuracy: 0.8143\n",
            "Epoch 36/100\n",
            "20/20 [==============================] - 0s 1ms/step - loss: 0.4450 - accuracy: 0.8143\n",
            "Epoch 37/100\n",
            "20/20 [==============================] - 0s 2ms/step - loss: 0.4449 - accuracy: 0.8143\n",
            "Epoch 38/100\n",
            "20/20 [==============================] - 0s 1ms/step - loss: 0.4440 - accuracy: 0.8143\n",
            "Epoch 39/100\n",
            "20/20 [==============================] - 0s 1ms/step - loss: 0.4436 - accuracy: 0.8143\n",
            "Epoch 40/100\n",
            "20/20 [==============================] - 0s 1ms/step - loss: 0.4419 - accuracy: 0.8143\n",
            "Epoch 41/100\n",
            "20/20 [==============================] - 0s 1ms/step - loss: 0.4412 - accuracy: 0.8127\n",
            "Epoch 42/100\n",
            "20/20 [==============================] - 0s 1ms/step - loss: 0.4401 - accuracy: 0.8127\n",
            "Epoch 43/100\n",
            "20/20 [==============================] - 0s 1ms/step - loss: 0.4394 - accuracy: 0.8127\n",
            "Epoch 44/100\n",
            "20/20 [==============================] - 0s 1ms/step - loss: 0.4387 - accuracy: 0.8127\n",
            "Epoch 45/100\n",
            "20/20 [==============================] - 0s 1ms/step - loss: 0.4381 - accuracy: 0.8127\n",
            "Epoch 46/100\n",
            "20/20 [==============================] - 0s 2ms/step - loss: 0.4377 - accuracy: 0.8127\n",
            "Epoch 47/100\n",
            "20/20 [==============================] - 0s 1ms/step - loss: 0.4371 - accuracy: 0.8127\n",
            "Epoch 48/100\n",
            "20/20 [==============================] - 0s 2ms/step - loss: 0.4367 - accuracy: 0.8127\n",
            "Epoch 49/100\n",
            "20/20 [==============================] - 0s 1ms/step - loss: 0.4359 - accuracy: 0.8127\n",
            "Epoch 50/100\n",
            "20/20 [==============================] - 0s 1ms/step - loss: 0.4356 - accuracy: 0.8127\n",
            "Epoch 51/100\n",
            "20/20 [==============================] - 0s 1ms/step - loss: 0.4349 - accuracy: 0.8111\n",
            "Epoch 52/100\n",
            "20/20 [==============================] - 0s 1ms/step - loss: 0.4349 - accuracy: 0.8127\n",
            "Epoch 53/100\n",
            "20/20 [==============================] - 0s 1ms/step - loss: 0.4339 - accuracy: 0.8127\n",
            "Epoch 54/100\n",
            "20/20 [==============================] - 0s 1ms/step - loss: 0.4331 - accuracy: 0.8143\n",
            "Epoch 55/100\n",
            "20/20 [==============================] - 0s 1ms/step - loss: 0.4325 - accuracy: 0.8127\n",
            "Epoch 56/100\n",
            "20/20 [==============================] - 0s 1ms/step - loss: 0.4319 - accuracy: 0.8143\n",
            "Epoch 57/100\n",
            "20/20 [==============================] - 0s 2ms/step - loss: 0.4313 - accuracy: 0.8160\n",
            "Epoch 58/100\n",
            "20/20 [==============================] - 0s 1ms/step - loss: 0.4308 - accuracy: 0.8143\n",
            "Epoch 59/100\n",
            "20/20 [==============================] - 0s 1ms/step - loss: 0.4304 - accuracy: 0.8160\n",
            "Epoch 60/100\n",
            "20/20 [==============================] - 0s 1ms/step - loss: 0.4296 - accuracy: 0.8160\n",
            "Epoch 61/100\n",
            "20/20 [==============================] - 0s 1ms/step - loss: 0.4288 - accuracy: 0.8143\n",
            "Epoch 62/100\n",
            "20/20 [==============================] - 0s 1ms/step - loss: 0.4284 - accuracy: 0.8127\n",
            "Epoch 63/100\n",
            "20/20 [==============================] - 0s 1ms/step - loss: 0.4280 - accuracy: 0.8160\n",
            "Epoch 64/100\n",
            "20/20 [==============================] - 0s 1ms/step - loss: 0.4272 - accuracy: 0.8160\n",
            "Epoch 65/100\n",
            "20/20 [==============================] - 0s 1ms/step - loss: 0.4266 - accuracy: 0.8160\n",
            "Epoch 66/100\n",
            "20/20 [==============================] - 0s 1ms/step - loss: 0.4260 - accuracy: 0.8143\n",
            "Epoch 67/100\n",
            "20/20 [==============================] - 0s 1ms/step - loss: 0.4260 - accuracy: 0.8127\n",
            "Epoch 68/100\n",
            "20/20 [==============================] - 0s 2ms/step - loss: 0.4253 - accuracy: 0.8143\n",
            "Epoch 69/100\n",
            "20/20 [==============================] - 0s 1ms/step - loss: 0.4249 - accuracy: 0.8143\n",
            "Epoch 70/100\n",
            "20/20 [==============================] - 0s 2ms/step - loss: 0.4242 - accuracy: 0.8160\n",
            "Epoch 71/100\n",
            "20/20 [==============================] - 0s 1ms/step - loss: 0.4237 - accuracy: 0.8127\n",
            "Epoch 72/100\n",
            "20/20 [==============================] - 0s 2ms/step - loss: 0.4232 - accuracy: 0.8127\n",
            "Epoch 73/100\n",
            "20/20 [==============================] - 0s 1ms/step - loss: 0.4229 - accuracy: 0.8127\n",
            "Epoch 74/100\n",
            "20/20 [==============================] - 0s 1ms/step - loss: 0.4226 - accuracy: 0.8127\n",
            "Epoch 75/100\n",
            "20/20 [==============================] - 0s 1ms/step - loss: 0.4221 - accuracy: 0.8127\n",
            "Epoch 76/100\n",
            "20/20 [==============================] - 0s 1ms/step - loss: 0.4215 - accuracy: 0.8143\n",
            "Epoch 77/100\n",
            "20/20 [==============================] - 0s 1ms/step - loss: 0.4212 - accuracy: 0.8160\n",
            "Epoch 78/100\n",
            "20/20 [==============================] - 0s 1ms/step - loss: 0.4208 - accuracy: 0.8160\n",
            "Epoch 79/100\n",
            "20/20 [==============================] - 0s 1ms/step - loss: 0.4207 - accuracy: 0.8143\n",
            "Epoch 80/100\n",
            "20/20 [==============================] - 0s 1ms/step - loss: 0.4205 - accuracy: 0.8127\n",
            "Epoch 81/100\n",
            "20/20 [==============================] - 0s 1ms/step - loss: 0.4192 - accuracy: 0.8143\n",
            "Epoch 82/100\n",
            "20/20 [==============================] - 0s 1ms/step - loss: 0.4192 - accuracy: 0.8160\n",
            "Epoch 83/100\n",
            "20/20 [==============================] - 0s 1ms/step - loss: 0.4189 - accuracy: 0.8160\n",
            "Epoch 84/100\n",
            "20/20 [==============================] - 0s 2ms/step - loss: 0.4182 - accuracy: 0.8160\n",
            "Epoch 85/100\n",
            "20/20 [==============================] - 0s 1ms/step - loss: 0.4181 - accuracy: 0.8160\n",
            "Epoch 86/100\n",
            "20/20 [==============================] - 0s 1ms/step - loss: 0.4175 - accuracy: 0.8160\n",
            "Epoch 87/100\n",
            "20/20 [==============================] - 0s 1ms/step - loss: 0.4171 - accuracy: 0.8160\n",
            "Epoch 88/100\n",
            "20/20 [==============================] - 0s 1ms/step - loss: 0.4169 - accuracy: 0.8160\n",
            "Epoch 89/100\n",
            "20/20 [==============================] - 0s 1ms/step - loss: 0.4162 - accuracy: 0.8160\n",
            "Epoch 90/100\n",
            "20/20 [==============================] - 0s 1ms/step - loss: 0.4157 - accuracy: 0.8160\n",
            "Epoch 91/100\n",
            "20/20 [==============================] - 0s 1ms/step - loss: 0.4156 - accuracy: 0.8143\n",
            "Epoch 92/100\n",
            "20/20 [==============================] - 0s 1ms/step - loss: 0.4152 - accuracy: 0.8143\n",
            "Epoch 93/100\n",
            "20/20 [==============================] - 0s 1ms/step - loss: 0.4151 - accuracy: 0.8160\n",
            "Epoch 94/100\n",
            "20/20 [==============================] - 0s 1ms/step - loss: 0.4144 - accuracy: 0.8176\n",
            "Epoch 95/100\n",
            "20/20 [==============================] - 0s 1ms/step - loss: 0.4147 - accuracy: 0.8176\n",
            "Epoch 96/100\n",
            "20/20 [==============================] - 0s 1ms/step - loss: 0.4139 - accuracy: 0.8176\n",
            "Epoch 97/100\n",
            "20/20 [==============================] - 0s 1ms/step - loss: 0.4134 - accuracy: 0.8176\n",
            "Epoch 98/100\n",
            "20/20 [==============================] - 0s 1ms/step - loss: 0.4129 - accuracy: 0.8176\n",
            "Epoch 99/100\n",
            "20/20 [==============================] - 0s 2ms/step - loss: 0.4129 - accuracy: 0.8176\n",
            "Epoch 100/100\n",
            "20/20 [==============================] - 0s 2ms/step - loss: 0.4124 - accuracy: 0.8176\n"
          ],
          "name": "stdout"
        },
        {
          "output_type": "execute_result",
          "data": {
            "text/plain": [
              "<tensorflow.python.keras.callbacks.History at 0x7f40371b7e80>"
            ]
          },
          "metadata": {
            "tags": []
          },
          "execution_count": 69
        }
      ]
    },
    {
      "cell_type": "code",
      "metadata": {
        "id": "xKfo-sf5vbCL",
        "colab_type": "code",
        "colab": {
          "base_uri": "https://localhost:8080/",
          "height": 50
        },
        "outputId": "7b724e53-6481-4fa3-a9b9-c180a82593f8"
      },
      "source": [
        "model.evaluate(data,targets)"
      ],
      "execution_count": null,
      "outputs": [
        {
          "output_type": "stream",
          "text": [
            "20/20 [==============================] - 0s 1ms/step - loss: 0.4111 - accuracy: 0.8176\n"
          ],
          "name": "stdout"
        },
        {
          "output_type": "execute_result",
          "data": {
            "text/plain": [
              "[0.4110662341117859, 0.8175895810127258]"
            ]
          },
          "metadata": {
            "tags": []
          },
          "execution_count": 70
        }
      ]
    },
    {
      "cell_type": "code",
      "metadata": {
        "id": "C_P3jqu1vbCN",
        "colab_type": "code",
        "colab": {
          "base_uri": "https://localhost:8080/",
          "height": 232
        },
        "outputId": "2bd5051d-e3fa-4ce6-f072-53f0edf59c23"
      },
      "source": [
        "test_data=pd.read_csv('test_lAUu6dG.csv')\n",
        "test_data.head()"
      ],
      "execution_count": null,
      "outputs": [
        {
          "output_type": "execute_result",
          "data": {
            "text/html": [
              "<div>\n",
              "<style scoped>\n",
              "    .dataframe tbody tr th:only-of-type {\n",
              "        vertical-align: middle;\n",
              "    }\n",
              "\n",
              "    .dataframe tbody tr th {\n",
              "        vertical-align: top;\n",
              "    }\n",
              "\n",
              "    .dataframe thead th {\n",
              "        text-align: right;\n",
              "    }\n",
              "</style>\n",
              "<table border=\"1\" class=\"dataframe\">\n",
              "  <thead>\n",
              "    <tr style=\"text-align: right;\">\n",
              "      <th></th>\n",
              "      <th>Loan_ID</th>\n",
              "      <th>Gender</th>\n",
              "      <th>Married</th>\n",
              "      <th>Dependents</th>\n",
              "      <th>Education</th>\n",
              "      <th>Self_Employed</th>\n",
              "      <th>ApplicantIncome</th>\n",
              "      <th>CoapplicantIncome</th>\n",
              "      <th>LoanAmount</th>\n",
              "      <th>Loan_Amount_Term</th>\n",
              "      <th>Credit_History</th>\n",
              "      <th>Property_Area</th>\n",
              "    </tr>\n",
              "  </thead>\n",
              "  <tbody>\n",
              "    <tr>\n",
              "      <th>0</th>\n",
              "      <td>LP001015</td>\n",
              "      <td>Male</td>\n",
              "      <td>Yes</td>\n",
              "      <td>0</td>\n",
              "      <td>Graduate</td>\n",
              "      <td>No</td>\n",
              "      <td>5720</td>\n",
              "      <td>0</td>\n",
              "      <td>110.0</td>\n",
              "      <td>360.0</td>\n",
              "      <td>1.0</td>\n",
              "      <td>Urban</td>\n",
              "    </tr>\n",
              "    <tr>\n",
              "      <th>1</th>\n",
              "      <td>LP001022</td>\n",
              "      <td>Male</td>\n",
              "      <td>Yes</td>\n",
              "      <td>1</td>\n",
              "      <td>Graduate</td>\n",
              "      <td>No</td>\n",
              "      <td>3076</td>\n",
              "      <td>1500</td>\n",
              "      <td>126.0</td>\n",
              "      <td>360.0</td>\n",
              "      <td>1.0</td>\n",
              "      <td>Urban</td>\n",
              "    </tr>\n",
              "    <tr>\n",
              "      <th>2</th>\n",
              "      <td>LP001031</td>\n",
              "      <td>Male</td>\n",
              "      <td>Yes</td>\n",
              "      <td>2</td>\n",
              "      <td>Graduate</td>\n",
              "      <td>No</td>\n",
              "      <td>5000</td>\n",
              "      <td>1800</td>\n",
              "      <td>208.0</td>\n",
              "      <td>360.0</td>\n",
              "      <td>1.0</td>\n",
              "      <td>Urban</td>\n",
              "    </tr>\n",
              "    <tr>\n",
              "      <th>3</th>\n",
              "      <td>LP001035</td>\n",
              "      <td>Male</td>\n",
              "      <td>Yes</td>\n",
              "      <td>2</td>\n",
              "      <td>Graduate</td>\n",
              "      <td>No</td>\n",
              "      <td>2340</td>\n",
              "      <td>2546</td>\n",
              "      <td>100.0</td>\n",
              "      <td>360.0</td>\n",
              "      <td>NaN</td>\n",
              "      <td>Urban</td>\n",
              "    </tr>\n",
              "    <tr>\n",
              "      <th>4</th>\n",
              "      <td>LP001051</td>\n",
              "      <td>Male</td>\n",
              "      <td>No</td>\n",
              "      <td>0</td>\n",
              "      <td>Not Graduate</td>\n",
              "      <td>No</td>\n",
              "      <td>3276</td>\n",
              "      <td>0</td>\n",
              "      <td>78.0</td>\n",
              "      <td>360.0</td>\n",
              "      <td>1.0</td>\n",
              "      <td>Urban</td>\n",
              "    </tr>\n",
              "  </tbody>\n",
              "</table>\n",
              "</div>"
            ],
            "text/plain": [
              "    Loan_ID Gender Married  ... Loan_Amount_Term Credit_History Property_Area\n",
              "0  LP001015   Male     Yes  ...            360.0            1.0         Urban\n",
              "1  LP001022   Male     Yes  ...            360.0            1.0         Urban\n",
              "2  LP001031   Male     Yes  ...            360.0            1.0         Urban\n",
              "3  LP001035   Male     Yes  ...            360.0            NaN         Urban\n",
              "4  LP001051   Male      No  ...            360.0            1.0         Urban\n",
              "\n",
              "[5 rows x 12 columns]"
            ]
          },
          "metadata": {
            "tags": []
          },
          "execution_count": 17
        }
      ]
    },
    {
      "cell_type": "code",
      "metadata": {
        "id": "i3ymPIUSvbCP",
        "colab_type": "code",
        "colab": {}
      },
      "source": [
        "\n",
        "test_data=test_data.drop(['Loan_ID'],axis=1)\n",
        "test_data=pd.get_dummies(test_data,drop_first=True)\n"
      ],
      "execution_count": null,
      "outputs": []
    },
    {
      "cell_type": "code",
      "metadata": {
        "id": "kHprI1g8vbCS",
        "colab_type": "code",
        "colab": {
          "base_uri": "https://localhost:8080/",
          "height": 370
        },
        "outputId": "67c5c44b-e41d-41e5-c3e8-3f15e5ef99e4"
      },
      "source": [
        "test_data.info()"
      ],
      "execution_count": null,
      "outputs": [
        {
          "output_type": "stream",
          "text": [
            "<class 'pandas.core.frame.DataFrame'>\n",
            "RangeIndex: 367 entries, 0 to 366\n",
            "Data columns (total 14 columns):\n",
            " #   Column                   Non-Null Count  Dtype  \n",
            "---  ------                   --------------  -----  \n",
            " 0   ApplicantIncome          367 non-null    int64  \n",
            " 1   CoapplicantIncome        367 non-null    int64  \n",
            " 2   LoanAmount               362 non-null    float64\n",
            " 3   Loan_Amount_Term         361 non-null    float64\n",
            " 4   Credit_History           338 non-null    float64\n",
            " 5   Gender_Male              367 non-null    uint8  \n",
            " 6   Married_Yes              367 non-null    uint8  \n",
            " 7   Dependents_1             367 non-null    uint8  \n",
            " 8   Dependents_2             367 non-null    uint8  \n",
            " 9   Dependents_3+            367 non-null    uint8  \n",
            " 10  Education_Not Graduate   367 non-null    uint8  \n",
            " 11  Self_Employed_Yes        367 non-null    uint8  \n",
            " 12  Property_Area_Semiurban  367 non-null    uint8  \n",
            " 13  Property_Area_Urban      367 non-null    uint8  \n",
            "dtypes: float64(3), int64(2), uint8(9)\n",
            "memory usage: 17.7 KB\n"
          ],
          "name": "stdout"
        }
      ]
    },
    {
      "cell_type": "code",
      "metadata": {
        "id": "A-2IsqcjvbCT",
        "colab_type": "code",
        "colab": {}
      },
      "source": [
        "test_data['LoanAmount'].fillna(test_data['LoanAmount'].mean(),inplace=True)\n",
        "test_data['Credit_History'].fillna(test_data['Credit_History'].mean(),inplace=True)\n",
        "test_data['Loan_Amount_Term'].fillna(test_data['Loan_Amount_Term'].mean(),inplace=True)"
      ],
      "execution_count": null,
      "outputs": []
    },
    {
      "cell_type": "code",
      "metadata": {
        "id": "n53ax0jvvbCV",
        "colab_type": "code",
        "colab": {}
      },
      "source": [
        "inputs=Scaler.transform(test_data)"
      ],
      "execution_count": null,
      "outputs": []
    },
    {
      "cell_type": "code",
      "metadata": {
        "id": "JDgrJMHJvbCY",
        "colab_type": "code",
        "colab": {}
      },
      "source": [
        "pred=model.predict(inputs).round()\n",
        "pred=list(pred)"
      ],
      "execution_count": null,
      "outputs": []
    },
    {
      "cell_type": "code",
      "metadata": {
        "id": "5arpN0whvbCa",
        "colab_type": "code",
        "colab": {}
      },
      "source": [
        "for i in range(len(pred)):\n",
        "    if pred[i]==1:\n",
        "        pred[i]='Y'\n",
        "    else:\n",
        "        pred[i]='N'"
      ],
      "execution_count": null,
      "outputs": []
    },
    {
      "cell_type": "code",
      "metadata": {
        "id": "gkYk5RE3vbCb",
        "colab_type": "code",
        "colab": {}
      },
      "source": [
        "submission=pd.read_csv('sample_submission_49d68Cx.csv')"
      ],
      "execution_count": null,
      "outputs": []
    },
    {
      "cell_type": "code",
      "metadata": {
        "id": "fiMbuQOYvbCe",
        "colab_type": "code",
        "colab": {}
      },
      "source": [
        "submission['Loan_Status']=pred"
      ],
      "execution_count": null,
      "outputs": []
    },
    {
      "cell_type": "code",
      "metadata": {
        "id": "mwdPyi69vbCh",
        "colab_type": "code",
        "colab": {}
      },
      "source": [
        "submission.to_csv('sub.csv',index=False)"
      ],
      "execution_count": null,
      "outputs": []
    },
    {
      "cell_type": "code",
      "metadata": {
        "id": "V-vyHyL7vbCj",
        "colab_type": "code",
        "colab": {
          "base_uri": "https://localhost:8080/",
          "height": 67
        },
        "outputId": "5a81fd3c-597f-41c4-aade-303b9081db8f"
      },
      "source": [
        "submission['Loan_Status'].value_counts()"
      ],
      "execution_count": null,
      "outputs": [
        {
          "output_type": "execute_result",
          "data": {
            "text/plain": [
              "Y    293\n",
              "N     74\n",
              "Name: Loan_Status, dtype: int64"
            ]
          },
          "metadata": {
            "tags": []
          },
          "execution_count": 33
        }
      ]
    },
    {
      "cell_type": "code",
      "metadata": {
        "id": "vhoIA0VkvbCl",
        "colab_type": "code",
        "colab": {}
      },
      "source": [
        ""
      ],
      "execution_count": null,
      "outputs": []
    }
  ]
}